{
 "cells": [
  {
   "cell_type": "code",
   "execution_count": 1,
   "id": "5f88d865-9e12-4c99-9795-f2ef2e66f694",
   "metadata": {},
   "outputs": [],
   "source": [
    "%load_ext autoreload\n",
    "%autoreload 2"
   ]
  },
  {
   "cell_type": "code",
   "execution_count": 2,
   "id": "caf077ad-1dca-4960-861a-60dcd954471e",
   "metadata": {},
   "outputs": [],
   "source": [
    "from weibull_model_football_scores.probs.weibull import weibull_likelihood"
   ]
  },
  {
   "cell_type": "code",
   "execution_count": 4,
   "id": "b8d708f2-7e3f-4dfe-862d-9e415dbac1f5",
   "metadata": {},
   "outputs": [],
   "source": [
    "import matplotlib.pyplot as plt\n",
    "import pandas as pd\n",
    "from weibull_model_football_scores.ingestion import load_data, load_prediction_dataset\n",
    "from weibull_model_football_scores.model import WeibullCountFitter\n",
    "\n",
    "from sklearn.metrics import precision_recall_fscore_support"
   ]
  },
  {
   "cell_type": "code",
   "execution_count": 5,
   "id": "b5ff5b87-a26e-4558-9ee2-723d53379a27",
   "metadata": {},
   "outputs": [],
   "source": [
    "df = load_data(league=\"seriea\", season=\"22_23\")"
   ]
  },
  {
   "cell_type": "code",
   "execution_count": 6,
   "id": "2deb0960-f472-44cc-b080-72e18c50c799",
   "metadata": {},
   "outputs": [],
   "source": [
    "train = df[df[\"fixture\"] < df[\"fixture\"].max() - 3].copy()\n",
    "test = df[df[\"fixture\"] >= df[\"fixture\"].max() - 3].copy()"
   ]
  },
  {
   "cell_type": "code",
   "execution_count": 22,
   "id": "39ee7a46-7899-414b-bdb1-f70944f778e8",
   "metadata": {},
   "outputs": [],
   "source": [
    "w = WeibullCountFitter()"
   ]
  },
  {
   "cell_type": "code",
   "execution_count": 23,
   "id": "54c4eacf-7d03-45c2-976e-914c3720f706",
   "metadata": {},
   "outputs": [
    {
     "name": "stdout",
     "output_type": "stream",
     "text": [
      "Starting train likelihood: -667.8159301541198\n",
      "Starting test likelihood: -115.89006765185134\n",
      "Step 1, current likelihood: -636.0969132529518\n",
      "Step 1, current test likelihood: -115.03133705205339\n",
      "Step 2, current likelihood: -622.2901055563849\n",
      "Step 2, current test likelihood: -115.40617596133222\n",
      "Step 3, current likelihood: -616.3563567554392\n",
      "Step 3, current test likelihood: -115.92674816825118\n",
      "Step 4, current likelihood: -613.5459654807809\n",
      "Step 4, current test likelihood: -116.31993343535939\n",
      "Step 5, current likelihood: -612.0651866447795\n",
      "Step 5, current test likelihood: -116.59489582799583\n",
      "Step 6, current likelihood: -611.2238165836397\n",
      "Step 6, current test likelihood: -116.79208627835413\n",
      "Step 7, current likelihood: -610.7195958571871\n",
      "Step 7, current test likelihood: -116.93868455685434\n",
      "Step 8, current likelihood: -610.404894834835\n",
      "Step 8, current test likelihood: -117.0511014676527\n",
      "Step 9, current likelihood: -610.2020265233286\n",
      "Step 9, current test likelihood: -117.13963543179118\n",
      "Step 10, current likelihood: -610.0677651317758\n",
      "Step 10, current test likelihood: -117.21101613492819\n",
      "Step 11, current likelihood: -609.9769519852977\n",
      "Step 11, current test likelihood: -117.26975379555871\n",
      "Step 12, current likelihood: -609.9143887050908\n",
      "Step 12, current test likelihood: -117.31892643319988\n",
      "Step 13, current likelihood: -609.8706047610108\n",
      "Step 13, current test likelihood: -117.36067277071297\n",
      "Step 14, current likelihood: -609.8395429918969\n",
      "Step 14, current test likelihood: -117.39651011706346\n",
      "Step 15, current likelihood: -609.8172424615813\n",
      "Step 15, current test likelihood: -117.42754079920715\n",
      "Step 16, current likelihood: -609.8010629190996\n",
      "Step 16, current test likelihood: -117.45458683413496\n",
      "Step 17, current likelihood: -609.789214661858\n",
      "Step 17, current test likelihood: -117.47827765385472\n",
      "Step 18, current likelihood: -609.780466344744\n",
      "Step 18, current test likelihood: -117.49910775986307\n",
      "Step 19, current likelihood: -609.7739594060937\n",
      "Step 19, current test likelihood: -117.51747468177123\n",
      "Step 20, current likelihood: -609.7690879637695\n",
      "Step 20, current test likelihood: -117.53370460730149\n",
      "Step 21, current likelihood: -609.76541977138\n",
      "Step 21, current test likelihood: -117.54806973300612\n",
      "Step 22, current likelihood: -609.7626433866236\n",
      "Step 22, current test likelihood: -117.5608002226993\n",
      "Step 23, current likelihood: -609.7605323799071\n",
      "Step 23, current test likelihood: -117.57209300493457\n",
      "Step 24, current likelihood: -609.7589207732993\n",
      "Step 24, current test likelihood: -117.58211792058647\n",
      "Step 25, current likelihood: -609.7576859974115\n",
      "Step 25, current test likelihood: -117.5910225422589\n",
      "Step 26, current likelihood: -609.7567369245751\n",
      "Step 26, current test likelihood: -117.59893564248814\n",
      "Early stop. Algorithm has converged\n"
     ]
    }
   ],
   "source": [
    "w.fit(train, learning_rate=0.01, test=test)"
   ]
  },
  {
   "cell_type": "code",
   "execution_count": 25,
   "id": "c05250f4-447d-4a87-9952-fe0547dece87",
   "metadata": {},
   "outputs": [],
   "source": [
    "import numpy as np"
   ]
  },
  {
   "cell_type": "code",
   "execution_count": 26,
   "id": "c0dda326-3713-4f12-9210-2a896b603e90",
   "metadata": {},
   "outputs": [
    {
     "data": {
      "text/plain": [
       "[<matplotlib.lines.Line2D at 0x148e4c0a0>]"
      ]
     },
     "execution_count": 26,
     "metadata": {},
     "output_type": "execute_result"
    },
    {
     "data": {
      "image/png": "[encoded data removed]",
      "text/plain": [
       "<Figure size 640x480 with 1 Axes>"
      ]
     },
     "metadata": {},
     "output_type": "display_data"
    }
   ],
   "source": [
    "# Likelihood per observation\n",
    "plt.plot(-np.array(w.train_likelihoods)/len(train))\n",
    "plt.plot(-np.array(w.test_likelihoods)/len(test))"
   ]
  },
  {
   "cell_type": "code",
   "execution_count": null,
   "id": "d1528fef-7004-4225-bbcc-e48e56758a68",
   "metadata": {},
   "outputs": [],
   "source": []
  },
  {
   "cell_type": "code",
   "execution_count": null,
   "id": "152e34d9-1db6-4d36-b6f3-e4966d15606a",
   "metadata": {},
   "outputs": [],
   "source": []
  },
  {
   "cell_type": "code",
   "execution_count": null,
   "id": "d6d81ba6-d56f-4b89-9624-5adfb5a8c68d",
   "metadata": {},
   "outputs": [],
   "source": [
    "w.C_team.sort_values(\"alpha\", ascending=False)"
   ]
  },
  {
   "cell_type": "code",
   "execution_count": null,
   "id": "1ebac9c4-e57a-456d-bca7-3a20d4d96104",
   "metadata": {},
   "outputs": [],
   "source": [
    "w.C_team.sort_values(\"beta\", ascending=True)"
   ]
  },
  {
   "cell_type": "code",
   "execution_count": null,
   "id": "f4c646d6-1905-456d-9c61-1d0df8255496",
   "metadata": {},
   "outputs": [],
   "source": []
  },
  {
   "cell_type": "code",
   "execution_count": null,
   "id": "31c981d7-b6ff-40d7-8264-adda8f340c16",
   "metadata": {},
   "outputs": [],
   "source": []
  },
  {
   "cell_type": "code",
   "execution_count": null,
   "id": "6a426a23-9840-4365-99a4-793a20e48a62",
   "metadata": {},
   "outputs": [],
   "source": [
    "_test = test.copy()"
   ]
  },
  {
   "cell_type": "code",
   "execution_count": null,
   "id": "be14713e-77a6-463c-94ef-620b91d830d2",
   "metadata": {},
   "outputs": [],
   "source": [
    "test = test[test[\"fixture\"] == test[\"fixture\"].min()]"
   ]
  },
  {
   "cell_type": "code",
   "execution_count": null,
   "id": "9b0141c6-85b0-4c3f-8e03-6fdfda4d44e2",
   "metadata": {},
   "outputs": [],
   "source": [
    "TRAIN = train.join(w.predict_under_over(train))\n",
    "TEST = test.join(w.predict_under_over(test))"
   ]
  },
  {
   "cell_type": "code",
   "execution_count": null,
   "id": "a07fb03a-5820-4f05-a199-68037043143e",
   "metadata": {},
   "outputs": [],
   "source": [
    "TRAIN[\"over_true\"] = TRAIN[\"FTHG\"] + TRAIN[\"FTAG\"] > 2.5\n",
    "TRAIN[\"over_pred\"] = TRAIN[\"over\"] > TRAIN[\"under\"] \n",
    "\n",
    "\n",
    "TEST[\"over_true\"] = TEST[\"FTHG\"] + TEST[\"FTAG\"] > 2.5\n",
    "TEST[\"over_pred\"] = TEST[\"over\"] > TEST[\"under\"] "
   ]
  },
  {
   "cell_type": "code",
   "execution_count": null,
   "id": "01e07ac3-ce70-4a12-9139-7a135f3c04f1",
   "metadata": {},
   "outputs": [],
   "source": [
    "Z = T[T[[\"under\", \"over\"]].max(axis=1) > 0.7]"
   ]
  },
  {
   "cell_type": "code",
   "execution_count": null,
   "id": "79a91f76-8ccf-45d8-add8-8f082e2cf160",
   "metadata": {},
   "outputs": [],
   "source": [
    "precision_recall_fscore_support(TRAIN[\"over_true\"], TRAIN[\"over_pred\"])"
   ]
  },
  {
   "cell_type": "code",
   "execution_count": null,
   "id": "e562f9f5-3a98-427b-b8a2-8f0a1fc17cb4",
   "metadata": {},
   "outputs": [],
   "source": [
    "precision_recall_fscore_support(TEST[\"over_true\"], TEST[\"over_pred\"])"
   ]
  },
  {
   "cell_type": "code",
   "execution_count": null,
   "id": "3c045a55-0024-48bd-b58e-90d2cea608fc",
   "metadata": {},
   "outputs": [],
   "source": [
    "TEST"
   ]
  },
  {
   "cell_type": "code",
   "execution_count": null,
   "id": "5f41bde8-e0e5-48d2-b580-d5fe68c098d5",
   "metadata": {},
   "outputs": [],
   "source": [
    "Z"
   ]
  },
  {
   "cell_type": "code",
   "execution_count": null,
   "id": "aaf6c572-9f12-4303-a417-78306deefc7d",
   "metadata": {},
   "outputs": [],
   "source": [
    "precision_recall_fscore_support(Z[\"over_true\"], Z[\"over_pred\"])"
   ]
  },
  {
   "cell_type": "code",
   "execution_count": null,
   "id": "12fb4a64-4b89-4ba9-ac7c-bda50b6ae61b",
   "metadata": {},
   "outputs": [],
   "source": [
    "1/w.predict_1x2_single_match(\"Napoli\", \"Milan\")"
   ]
  },
  {
   "cell_type": "code",
   "execution_count": null,
   "id": "96ccf7ff-1fc5-47f5-837f-09097db56102",
   "metadata": {},
   "outputs": [],
   "source": [
    "1/(1 - (1/1.75 + 1/3.65))"
   ]
  },
  {
   "cell_type": "code",
   "execution_count": null,
   "id": "6dc569ba-d935-4d2c-bbac-18439d98b049",
   "metadata": {},
   "outputs": [],
   "source": [
    "#cProfile.run('w.fit(df, n_iter=4)')"
   ]
  },
  {
   "cell_type": "code",
   "execution_count": null,
   "id": "faeb9a66-8b97-43b3-ac2e-dfa89e33f458",
   "metadata": {},
   "outputs": [],
   "source": [
    "X = load_prediction_dataset(league=\"seriea\", season=\"22_23\")"
   ]
  },
  {
   "cell_type": "code",
   "execution_count": null,
   "id": "d0a729d3-96fe-4e97-bdc9-2487f52a6509",
   "metadata": {},
   "outputs": [],
   "source": [
    "preds = w.predict(X, how=\"under_over\")"
   ]
  },
  {
   "cell_type": "code",
   "execution_count": null,
   "id": "6c99cf75-7624-4a28-bda8-342e948a0a5b",
   "metadata": {},
   "outputs": [],
   "source": [
    "X.join(preds)"
   ]
  }
 ],
 "metadata": {
  "kernelspec": {
   "display_name": "weibull_model",
   "language": "python",
   "name": "weibull_model"
  },
  "language_info": {
   "codemirror_mode": {
    "name": "ipython",
    "version": 3
   },
   "file_extension": ".py",
   "mimetype": "text/x-python",
   "name": "python",
   "nbconvert_exporter": "python",
   "pygments_lexer": "ipython3",
   "version": "3.8.10"
  }
 },
 "nbformat": 4,
 "nbformat_minor": 5
}
